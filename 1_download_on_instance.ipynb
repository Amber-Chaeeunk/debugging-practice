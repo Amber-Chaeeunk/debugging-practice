{
  "nbformat": 4,
  "nbformat_minor": 2,
  "metadata": {
    "colab": {
      "name": "1.download_on_instance.ipynb",
      "provenance": [],
      "collapsed_sections": []
    },
    "kernelspec": {
      "name": "python3",
      "display_name": "Python 3"
    },
    "language_info": {
      "name": "python"
    }
  },
  "cells": [
    {
      "cell_type": "code",
      "execution_count": null,
      "source": [
        "# wget dataset: https://colab.research.google.com/github/Shaam93/Building-a-classifer-with-Pytorch/blob/master/Uploading_Data_to_Google_Colab.ipynb#scrollTo=z55wuhC_Lm6E\n",
        "# untar dataset: https://colab.research.google.com/drive/14ZuNYfF_cKbyWeucM5SoNTu1Hj7DmqjB#scrollTo=AxKoHY4Lqjc3\n",
        "# Delete superflous files: https://stackoverflow.com/questions/20994280/how-to-delete-every-files-extracted-after-extracting-and-doing-required-tasks"
      ],
      "outputs": [],
      "metadata": {
        "id": "NoqVxb9Zpw04"
      }
    },
    {
      "cell_type": "code",
      "execution_count": null,
      "source": [
        "# DONT ATTACH GOOGLE DRIVE. IT MAKES EVERYTING SLOW.\n",
        "# from google.colab import drive\n",
        "# drive.mount('/content/drive', force_remount=True)"
      ],
      "outputs": [],
      "metadata": {
        "id": "3Ea8QYuPp-N8"
      }
    },
    {
      "cell_type": "code",
      "execution_count": null,
      "source": [
        "#  download dataset from aistages using wget\n",
        "DATASET_LINK = \"\"\n",
        "!wget -cq $DATASET_LINK"
      ],
      "outputs": [],
      "metadata": {
        "id": "hSGrqnHgqA-E"
      }
    },
    {
      "cell_type": "code",
      "execution_count": null,
      "source": [
        "!ls"
      ],
      "outputs": [
        {
          "output_type": "stream",
          "name": "stdout",
          "text": [
            "sample_data  train.tar.gz\n"
          ]
        }
      ],
      "metadata": {
        "colab": {
          "base_uri": "https://localhost:8080/"
        },
        "id": "6X-_2-9dqNSB",
        "outputId": "8ce87424-0fb0-480a-b4c3-fd3fc520049b"
      }
    },
    {
      "cell_type": "code",
      "execution_count": null,
      "source": [
        "import os\n",
        "\n",
        "# define paths exactly same as Upstage server environment\n",
        "TAR_PATH = \"/content/train.tar.gz\"\n",
        "PARENT_DATA_PATH = \"/content/input/\"\n",
        "DATA_PATH = os.path.join(PARENT_DATA_PATH, \"data\")"
      ],
      "outputs": [],
      "metadata": {
        "id": "NpXyA4SHqoOm"
      }
    },
    {
      "cell_type": "code",
      "execution_count": null,
      "source": [
        "!mkdir $PARENT_DATA_PATH # make parent directory first\n",
        "!mkdir $DATA_PATH # make child directory"
      ],
      "outputs": [],
      "metadata": {
        "id": "SNvOt3Tulfbz"
      }
    },
    {
      "cell_type": "code",
      "execution_count": null,
      "source": [
        "from IPython.display import clear_output\n",
        "\n",
        "!tar -xzvf $TAR_PATH -C $DATA_PATH\n",
        "clear_output() # clear jupyter notebook output for memory saving purpose"
      ],
      "outputs": [],
      "metadata": {
        "id": "CsYsvYSaqej3"
      }
    },
    {
      "cell_type": "code",
      "execution_count": null,
      "source": [
        "import os\n",
        "import glob\n",
        "# remove superflous files such as \"._xxxxx.jpg\"\n",
        "\n",
        "TRAIN_IMGS_DATASET_PATH = \"/content/input/data/train/images\"\n",
        "EVAL_IMGS_DATASET_PATH = \"/content/input/data/eval/images\"\n",
        "\n",
        "list_individuals = glob.glob(os.path.join(TRAIN_IMGS_DATASET_PATH, \"*\"))\n",
        "print(len(list_individuals) ,list_individuals[:10])"
      ],
      "outputs": [
        {
          "output_type": "stream",
          "name": "stdout",
          "text": [
            "2700 ['/content/input/data/train/images/000242_male_Asian_56', '/content/input/data/train/images/003680_male_Asian_59', '/content/input/data/train/images/006942_male_Asian_19', '/content/input/data/train/images/004317_male_Asian_60', '/content/input/data/train/images/000827_female_Asian_55', '/content/input/data/train/images/003512_male_Asian_53', '/content/input/data/train/images/006430_female_Asian_18', '/content/input/data/train/images/005017_female_Asian_55', '/content/input/data/train/images/005410_female_Asian_58', '/content/input/data/train/images/005004_female_Asian_30']\n"
          ]
        }
      ],
      "metadata": {
        "colab": {
          "base_uri": "https://localhost:8080/"
        },
        "id": "XUHr8RPqq1LF",
        "outputId": "a3fab47e-e13c-474f-f504-6771365aa424"
      }
    },
    {
      "cell_type": "code",
      "execution_count": null,
      "source": [
        "# superflous folders that start with ._ exist: it should be 2700 folders, not 5400\n",
        "len(os.listdir(TRAIN_IMGS_DATASET_PATH))"
      ],
      "outputs": [
        {
          "output_type": "execute_result",
          "data": {
            "text/plain": [
              "5400"
            ]
          },
          "metadata": {},
          "execution_count": 9
        }
      ],
      "metadata": {
        "colab": {
          "base_uri": "https://localhost:8080/"
        },
        "id": "IxiHdQpLrwXU",
        "outputId": "26f0bd11-c821-4aa1-f000-06725109f51a"
      }
    },
    {
      "cell_type": "code",
      "execution_count": null,
      "source": [
        "# remove superflous folders that start with ._\n",
        "superflous_folders = glob.glob(os.path.join(TRAIN_IMGS_DATASET_PATH,\"._*\"))\n",
        "print(len(superflous_folders),superflous_folders[:10])\n",
        "for item in superflous_folders:\n",
        "  os.remove(item)"
      ],
      "outputs": [
        {
          "output_type": "stream",
          "name": "stdout",
          "text": [
            "2700 ['/content/input/data/train/images/._001038-1_male_Asian_20', '/content/input/data/train/images/._001270_male_Asian_21', '/content/input/data/train/images/._006351_female_Asian_18', '/content/input/data/train/images/._006520_female_Asian_19', '/content/input/data/train/images/._003717_female_Asian_60', '/content/input/data/train/images/._001542_female_Asian_25', '/content/input/data/train/images/._003836_male_Asian_56', '/content/input/data/train/images/._000002_female_Asian_52', '/content/input/data/train/images/._003863_female_Asian_56', '/content/input/data/train/images/._001190_male_Asian_24']\n"
          ]
        }
      ],
      "metadata": {
        "colab": {
          "base_uri": "https://localhost:8080/"
        },
        "id": "jZdVm3LDtFwZ",
        "outputId": "3dc2ebe5-e273-4bf1-87fe-32a45d20673c"
      }
    },
    {
      "cell_type": "code",
      "execution_count": null,
      "source": [
        "# superflous folders are removed, now it is 2700 folders\n",
        "len(os.listdir(TRAIN_IMGS_DATASET_PATH))"
      ],
      "outputs": [
        {
          "output_type": "execute_result",
          "data": {
            "text/plain": [
              "2700"
            ]
          },
          "metadata": {},
          "execution_count": 11
        }
      ],
      "metadata": {
        "colab": {
          "base_uri": "https://localhost:8080/"
        },
        "id": "Sne80yg_rsk7",
        "outputId": "ec439841-df09-4910-bcde-5609b5307391"
      }
    },
    {
      "cell_type": "code",
      "execution_count": null,
      "source": [
        "# check every files inside sample folder including hidden ._superflous-files using listdir\n",
        "personal_id = \"001771_female_Asian_54\"\n",
        "os.listdir(os.path.join(TRAIN_IMGS_DATASET_PATH, personal_id))"
      ],
      "outputs": [
        {
          "output_type": "execute_result",
          "data": {
            "text/plain": [
              "['mask3.jpg',\n",
              " 'mask1.jpg',\n",
              " '._mask1.jpg',\n",
              " '._mask5.jpg',\n",
              " 'incorrect_mask.jpg',\n",
              " '._normal.jpg',\n",
              " 'mask2.jpg',\n",
              " 'mask5.jpg',\n",
              " '._mask3.jpg',\n",
              " '._incorrect_mask.jpg',\n",
              " 'mask4.jpg',\n",
              " 'normal.jpg',\n",
              " '._mask4.jpg',\n",
              " '._mask2.jpg']"
            ]
          },
          "metadata": {},
          "execution_count": 12
        }
      ],
      "metadata": {
        "colab": {
          "base_uri": "https://localhost:8080/"
        },
        "id": "hqN1BkdXvtBk",
        "outputId": "edaefc18-1f4e-48cf-cd3f-a60413e5553c"
      }
    },
    {
      "cell_type": "code",
      "execution_count": null,
      "source": [
        "# remove ._xxxxx.jpg files\n",
        "list_folders = glob.glob(os.path.join(TRAIN_IMGS_DATASET_PATH,\"*\"))\n",
        "for folder in list_folders:\n",
        "  superflous_files = glob.glob(os.path.join(folder,\"._*\"))\n",
        "  for file in superflous_files:\n",
        "    os.remove(file)"
      ],
      "outputs": [],
      "metadata": {
        "id": "Krqr1Tl7n1W9"
      }
    },
    {
      "cell_type": "code",
      "execution_count": null,
      "source": [
        "# check every files inside sample folder including hidden .files using listdir\n",
        "personal_id = \"001771_female_Asian_54\"\n",
        "os.listdir(os.path.join(TRAIN_IMGS_DATASET_PATH, personal_id))"
      ],
      "outputs": [
        {
          "output_type": "execute_result",
          "data": {
            "text/plain": [
              "['mask3.jpg',\n",
              " 'mask1.jpg',\n",
              " 'incorrect_mask.jpg',\n",
              " 'mask2.jpg',\n",
              " 'mask5.jpg',\n",
              " 'mask4.jpg',\n",
              " 'normal.jpg']"
            ]
          },
          "metadata": {},
          "execution_count": 14
        }
      ],
      "metadata": {
        "colab": {
          "base_uri": "https://localhost:8080/"
        },
        "id": "azSpHTHUo-SZ",
        "outputId": "8b703a7d-278b-4ed8-c1eb-a910cfcfae47"
      }
    },
    {
      "cell_type": "code",
      "execution_count": null,
      "source": [
        "# check every files inside sample folder including hidden .files using listdir\n",
        "personal_id = \"003012_female_Asian_18\"\n",
        "os.listdir(os.path.join(TRAIN_IMGS_DATASET_PATH, personal_id))"
      ],
      "outputs": [
        {
          "output_type": "execute_result",
          "data": {
            "text/plain": [
              "['mask3.jpg',\n",
              " 'mask1.jpg',\n",
              " 'incorrect_mask.jpg',\n",
              " 'mask2.jpg',\n",
              " 'mask5.jpg',\n",
              " 'mask4.jpg',\n",
              " 'normal.jpg']"
            ]
          },
          "metadata": {},
          "execution_count": 15
        }
      ],
      "metadata": {
        "colab": {
          "base_uri": "https://localhost:8080/"
        },
        "id": "d8XM_u5zwD3t",
        "outputId": "b5067e84-1885-4a3d-fdfa-902772bbc95d"
      }
    },
    {
      "cell_type": "code",
      "execution_count": null,
      "source": [
        "# check whether the dataset is untarred properly\n",
        "for individual_name in list_individuals:\n",
        "  individual_path = os.path.join(TRAIN_IMGS_DATASET_PATH, individual_name)\n",
        "  \n",
        "  # check whether dataset is properly untarred\n",
        "  jpg_file_list = glob.glob(f\"{individual_path}/*.jpg\")\n",
        "  jpeg_file_list = glob.glob(f\"{individual_path}/*.jpeg\")\n",
        "  png_file_list = glob.glob(f\"{individual_path}/*.png\")\n",
        "  list_images = jpg_file_list + jpeg_file_list + png_file_list\n",
        "  num_jpg_images = len(list_images)\n",
        "  # print(num_jpg_images)\n",
        "  if num_jpg_images == 7:\n",
        "    pass\n",
        "  else:\n",
        "    print(f\"{individual_path} has a problem during untar process, only has {num_jpg_images} images\")\n",
        "    pass\n",
        "print(\"process cleared, untarred properly\")"
      ],
      "outputs": [
        {
          "output_type": "stream",
          "name": "stdout",
          "text": [
            "process cleared, untarred properly\n"
          ]
        }
      ],
      "metadata": {
        "colab": {
          "base_uri": "https://localhost:8080/"
        },
        "id": "BTbarJOouOzU",
        "outputId": "7eea3153-6d3e-4e68-f44e-76f7e396e30f"
      }
    },
    {
      "cell_type": "code",
      "execution_count": null,
      "source": [
        "import os\n",
        "import glob\n",
        "# remove superflous files such as \"._xxxxx.jpg\" on evaluation dataset\n",
        "\n",
        "superflous_files = glob.glob(os.path.join(EVAL_IMGS_DATASET_PATH,\"._*\"))\n",
        "print(len(superflous_files),superflous_files[:10])\n",
        "for item in superflous_files:\n",
        "  os.remove(item)"
      ],
      "outputs": [
        {
          "output_type": "stream",
          "name": "stdout",
          "text": [
            "12600 ['/content/input/data/eval/images/._0d76ee7646ceaa425671cdca3ec20e2c2c2b8cd5.jpg', '/content/input/data/eval/images/._57e7a7037005c43680c3c7ae6af9e47eed30d1c1.jpg', '/content/input/data/eval/images/._75b49844126bc9e63777e15d7327ee01762aa816.jpg', '/content/input/data/eval/images/._a82e6bc1a1874fa936df65b4ef43ee3c65308ee8.jpg', '/content/input/data/eval/images/._c54fc6f06fa266a9e8cf5eb4ba520ebf0152b547.jpg', '/content/input/data/eval/images/._de7c2869b3ea7e9a8c78129ecb571863bd9825b7.jpg', '/content/input/data/eval/images/._07fec314702141c222d8e9b64c01a5feb0ad5b10.jpg', '/content/input/data/eval/images/._17dad63c3d9183c63a41109b29698760da5c9c0f.jpg', '/content/input/data/eval/images/._56bf29ecb2261281677a334f7ecd8684b34d9347.jpg', '/content/input/data/eval/images/._737b63b7933ee2f4d923dcb95ad5c855bda96425.jpg']\n"
          ]
        }
      ],
      "metadata": {
        "colab": {
          "base_uri": "https://localhost:8080/"
        },
        "id": "Ij9k9jzHrS4Y",
        "outputId": "2ea3f388-9d90-4853-b348-3ff80fa07ac2"
      }
    },
    {
      "cell_type": "code",
      "execution_count": null,
      "source": [
        "print(f\"number of images: {len(os.listdir(EVAL_IMGS_DATASET_PATH))}\")"
      ],
      "outputs": [
        {
          "output_type": "stream",
          "name": "stdout",
          "text": [
            "number of images: 12600\n"
          ]
        }
      ],
      "metadata": {
        "colab": {
          "base_uri": "https://localhost:8080/"
        },
        "id": "83a1410StGf-",
        "outputId": "e0c9305d-3259-4563-ceb8-19ac9b4a2a79"
      }
    },
    {
      "cell_type": "code",
      "execution_count": null,
      "source": [
        "# remove original .tar.gz file\n",
        "!rm $TAR_PATH"
      ],
      "outputs": [],
      "metadata": {
        "id": "TUHnIZuFtRE4"
      }
    }
  ]
}